{
 "cells": [
  {
   "cell_type": "code",
   "execution_count": null,
   "metadata": {},
   "outputs": [],
   "source": [
    "! pip install apache-beam"
   ]
  },
  {
   "cell_type": "code",
   "execution_count": null,
   "metadata": {},
   "outputs": [],
   "source": [
    "import apache_beam as beam\n",
    "import logging\n",
    "import requests\n",
    "from urllib.error import HTTPError\n"
   ]
  },
  {
   "cell_type": "code",
   "execution_count": null,
   "metadata": {},
   "outputs": [],
   "source": [
    "\n",
    "\n",
    "class callAPI(beam.DoFn):\n",
    "    def process(self, element):\n",
    "        fro = element.get(\"from\")\n",
    "        to = element.get(\"to\")\n",
    "\n",
    "        url = 'http://127.0.0.1:8000/content?from={}&to={}'.format(fro, to)\n",
    "        res = requests.get(url)\n",
    "        data  = res.json()\n",
    "        yield data\n"
   ]
  },
  {
   "cell_type": "code",
   "execution_count": null,
   "metadata": {},
   "outputs": [],
   "source": [
    "with beam.Pipeline() as p:\n",
    "    data = p | beam.Create(values= [{'from': 1, 'to': 100}])\n",
    "    ap_response = data | beam.ParDo(callAPI())\n",
    "    ap_response | \"Print results\" >> beam.Map(print)"
   ]
  }
 ],
 "metadata": {
  "kernelspec": {
   "display_name": "transport_env",
   "language": "python",
   "name": "python3"
  },
  "language_info": {
   "codemirror_mode": {
    "name": "ipython",
    "version": 3
   },
   "file_extension": ".py",
   "mimetype": "text/x-python",
   "name": "python",
   "nbconvert_exporter": "python",
   "pygments_lexer": "ipython3",
   "version": "3.10.6"
  },
  "orig_nbformat": 4,
  "vscode": {
   "interpreter": {
    "hash": "43bca339011d70287323575a90c6c81936d08a582ed533f035890365234b9de0"
   }
  }
 },
 "nbformat": 4,
 "nbformat_minor": 2
}
