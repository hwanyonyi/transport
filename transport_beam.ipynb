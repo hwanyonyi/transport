{
 "cells": [
  {
   "cell_type": "code",
   "execution_count": 1,
   "metadata": {},
   "outputs": [
    {
     "name": "stdout",
     "output_type": "stream",
     "text": [
      "Requirement already satisfied: apache-beam in /Users/seth/.virtualenvs/samples_env/lib/python3.9/site-packages (2.49.0)\n",
      "Requirement already satisfied: crcmod<2.0,>=1.7 in /Users/seth/.virtualenvs/samples_env/lib/python3.9/site-packages (from apache-beam) (1.7)\n",
      "Requirement already satisfied: orjson<4.0 in /Users/seth/.virtualenvs/samples_env/lib/python3.9/site-packages (from apache-beam) (3.9.5)\n",
      "Requirement already satisfied: dill<0.3.2,>=0.3.1.1 in /Users/seth/.virtualenvs/samples_env/lib/python3.9/site-packages (from apache-beam) (0.3.1.1)\n",
      "Requirement already satisfied: cloudpickle~=2.2.1 in /Users/seth/.virtualenvs/samples_env/lib/python3.9/site-packages (from apache-beam) (2.2.1)\n",
      "Requirement already satisfied: fastavro<2,>=0.23.6 in /Users/seth/.virtualenvs/samples_env/lib/python3.9/site-packages (from apache-beam) (1.8.2)\n",
      "Requirement already satisfied: fasteners<1.0,>=0.3 in /Users/seth/.virtualenvs/samples_env/lib/python3.9/site-packages (from apache-beam) (0.18)\n",
      "Requirement already satisfied: grpcio!=1.48.0,<2,>=1.33.1 in /Users/seth/.virtualenvs/samples_env/lib/python3.9/site-packages (from apache-beam) (1.57.0)\n",
      "Requirement already satisfied: hdfs<3.0.0,>=2.1.0 in /Users/seth/.virtualenvs/samples_env/lib/python3.9/site-packages (from apache-beam) (2.7.2)\n",
      "Requirement already satisfied: httplib2<0.23.0,>=0.8 in /Users/seth/.virtualenvs/samples_env/lib/python3.9/site-packages (from apache-beam) (0.22.0)\n",
      "Requirement already satisfied: numpy<1.25.0,>=1.14.3 in /Users/seth/.virtualenvs/samples_env/lib/python3.9/site-packages (from apache-beam) (1.24.4)\n",
      "Requirement already satisfied: objsize<0.7.0,>=0.6.1 in /Users/seth/.virtualenvs/samples_env/lib/python3.9/site-packages (from apache-beam) (0.6.1)\n",
      "Requirement already satisfied: pymongo<5.0.0,>=3.8.0 in /Users/seth/.virtualenvs/samples_env/lib/python3.9/site-packages (from apache-beam) (4.4.1)\n",
      "Requirement already satisfied: proto-plus<2,>=1.7.1 in /Users/seth/.virtualenvs/samples_env/lib/python3.9/site-packages (from apache-beam) (1.22.3)\n",
      "Requirement already satisfied: protobuf<4.24.0,>=3.20.3 in /Users/seth/.virtualenvs/samples_env/lib/python3.9/site-packages (from apache-beam) (4.23.4)\n",
      "Requirement already satisfied: pydot<2,>=1.2.0 in /Users/seth/.virtualenvs/samples_env/lib/python3.9/site-packages (from apache-beam) (1.4.2)\n",
      "Requirement already satisfied: python-dateutil<3,>=2.8.0 in /Users/seth/.virtualenvs/samples_env/lib/python3.9/site-packages (from apache-beam) (2.8.2)\n",
      "Requirement already satisfied: pytz>=2018.3 in /Users/seth/.virtualenvs/samples_env/lib/python3.9/site-packages (from apache-beam) (2023.3)\n",
      "Requirement already satisfied: regex>=2020.6.8 in /Users/seth/.virtualenvs/samples_env/lib/python3.9/site-packages (from apache-beam) (2023.8.8)\n",
      "Requirement already satisfied: requests<3.0.0,>=2.24.0 in /Users/seth/.virtualenvs/samples_env/lib/python3.9/site-packages (from apache-beam) (2.31.0)\n",
      "Requirement already satisfied: typing-extensions>=3.7.0 in /Users/seth/.virtualenvs/samples_env/lib/python3.9/site-packages (from apache-beam) (4.7.1)\n",
      "Requirement already satisfied: zstandard<1,>=0.18.0 in /Users/seth/.virtualenvs/samples_env/lib/python3.9/site-packages (from apache-beam) (0.21.0)\n",
      "Requirement already satisfied: pyarrow<12.0.0,>=3.0.0 in /Users/seth/.virtualenvs/samples_env/lib/python3.9/site-packages (from apache-beam) (11.0.0)\n",
      "Requirement already satisfied: docopt in /Users/seth/.virtualenvs/samples_env/lib/python3.9/site-packages (from hdfs<3.0.0,>=2.1.0->apache-beam) (0.6.2)\n",
      "Requirement already satisfied: six>=1.9.0 in /Users/seth/.virtualenvs/samples_env/lib/python3.9/site-packages (from hdfs<3.0.0,>=2.1.0->apache-beam) (1.16.0)\n",
      "Requirement already satisfied: pyparsing!=3.0.0,!=3.0.1,!=3.0.2,!=3.0.3,<4,>=2.4.2 in /Users/seth/.virtualenvs/samples_env/lib/python3.9/site-packages (from httplib2<0.23.0,>=0.8->apache-beam) (3.1.1)\n",
      "Requirement already satisfied: dnspython<3.0.0,>=1.16.0 in /Users/seth/.virtualenvs/samples_env/lib/python3.9/site-packages (from pymongo<5.0.0,>=3.8.0->apache-beam) (2.4.2)\n",
      "Requirement already satisfied: charset-normalizer<4,>=2 in /Users/seth/.virtualenvs/samples_env/lib/python3.9/site-packages (from requests<3.0.0,>=2.24.0->apache-beam) (3.2.0)\n",
      "Requirement already satisfied: idna<4,>=2.5 in /Users/seth/.virtualenvs/samples_env/lib/python3.9/site-packages (from requests<3.0.0,>=2.24.0->apache-beam) (3.4)\n",
      "Requirement already satisfied: urllib3<3,>=1.21.1 in /Users/seth/.virtualenvs/samples_env/lib/python3.9/site-packages (from requests<3.0.0,>=2.24.0->apache-beam) (1.26.16)\n",
      "Requirement already satisfied: certifi>=2017.4.17 in /Users/seth/.virtualenvs/samples_env/lib/python3.9/site-packages (from requests<3.0.0,>=2.24.0->apache-beam) (2023.7.22)\n",
      "\n",
      "\u001b[1m[\u001b[0m\u001b[34;49mnotice\u001b[0m\u001b[1;39;49m]\u001b[0m\u001b[39;49m A new release of pip is available: \u001b[0m\u001b[31;49m23.1.2\u001b[0m\u001b[39;49m -> \u001b[0m\u001b[32;49m23.2.1\u001b[0m\n",
      "\u001b[1m[\u001b[0m\u001b[34;49mnotice\u001b[0m\u001b[1;39;49m]\u001b[0m\u001b[39;49m To update, run: \u001b[0m\u001b[32;49mpip install --upgrade pip\u001b[0m\n"
     ]
    }
   ],
   "source": [
    "! pip install apache-beam"
   ]
  },
  {
   "cell_type": "code",
   "execution_count": 8,
   "metadata": {},
   "outputs": [],
   "source": [
    "import apache_beam as beam\n",
    "import logging\n",
    "import requests\n",
    "from urllib.error import HTTPError\n"
   ]
  },
  {
   "cell_type": "code",
   "execution_count": 9,
   "metadata": {},
   "outputs": [],
   "source": [
    "\n",
    "\n",
    "class callAPI(beam.DoFn):\n",
    "    def process(self, element):\n",
    "        url = 'http://127.0.0.1:8000/content/'\n",
    "        res = requests.get(url)\n",
    "        data  = res.json()\n",
    "        yield data\n"
   ]
  },
  {
   "cell_type": "code",
   "execution_count": 11,
   "metadata": {},
   "outputs": [
    {
     "ename": "TypeError",
     "evalue": "unsupported operand type(s) for >>: 'str' and 'PCollection'",
     "output_type": "error",
     "traceback": [
      "\u001b[0;31m---------------------------------------------------------------------------\u001b[0m",
      "\u001b[0;31mTypeError\u001b[0m                                 Traceback (most recent call last)",
      "Cell \u001b[0;32mIn[11], line 4\u001b[0m\n\u001b[1;32m      2\u001b[0m data \u001b[39m=\u001b[39m p \u001b[39m|\u001b[39m beam\u001b[39m.\u001b[39mCreate(values\u001b[39m=\u001b[39m [{\u001b[39m'\u001b[39m\u001b[39mfrom\u001b[39m\u001b[39m'\u001b[39m: \u001b[39m1\u001b[39m, \u001b[39m'\u001b[39m\u001b[39mto\u001b[39m\u001b[39m'\u001b[39m: \u001b[39m10\u001b[39m}])\n\u001b[1;32m      3\u001b[0m ap_response \u001b[39m=\u001b[39m data \u001b[39m|\u001b[39m beam\u001b[39m.\u001b[39mParDo(callAPI())\n\u001b[0;32m----> 4\u001b[0m res \u001b[39m=\u001b[39m \u001b[39m'\u001b[39;49m\u001b[39mCall API\u001b[39;49m\u001b[39m'\u001b[39;49m \u001b[39m>>\u001b[39;49m ap_response\n\u001b[1;32m      5\u001b[0m beam\u001b[39m.\u001b[39mMap(\u001b[39mprint\u001b[39m)\n",
      "\u001b[0;31mTypeError\u001b[0m: unsupported operand type(s) for >>: 'str' and 'PCollection'"
     ]
    }
   ],
   "source": [
    "with beam.Pipeline() as p:\n",
    "    data = p | beam.Create(values= [{'from': 1, 'to': 10}])\n",
    "    ap_response = data | beam.ParDo(callAPI())\n",
    "    ap_response | \"Print results\" >> beam.Map(print)\n"
   ]
  },
  {
   "cell_type": "code",
   "execution_count": null,
   "metadata": {},
   "outputs": [],
   "source": []
  }
 ],
 "metadata": {
  "kernelspec": {
   "display_name": "samples_env",
   "language": "python",
   "name": "python3"
  },
  "language_info": {
   "codemirror_mode": {
    "name": "ipython",
    "version": 3
   },
   "file_extension": ".py",
   "mimetype": "text/x-python",
   "name": "python",
   "nbconvert_exporter": "python",
   "pygments_lexer": "ipython3",
   "version": "3.9.17"
  },
  "orig_nbformat": 4
 },
 "nbformat": 4,
 "nbformat_minor": 2
}
