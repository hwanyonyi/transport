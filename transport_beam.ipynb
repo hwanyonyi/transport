{
 "cells": [
  {
   "cell_type": "code",
   "execution_count": null,
   "metadata": {},
   "outputs": [],
   "source": [
    "! pip install apache-beam"
   ]
  },
  {
   "cell_type": "code",
   "execution_count": 1,
   "metadata": {
    "tags": []
   },
   "outputs": [],
   "source": [
    "import apache_beam as beam\n",
    "import logging\n",
    "import requests\n",
    "from urllib.error import HTTPError\n"
   ]
  },
  {
   "cell_type": "code",
   "execution_count": 2,
   "metadata": {
    "tags": []
   },
   "outputs": [],
   "source": [
    "\n",
    "\n",
    "class callAPI(beam.DoFn):\n",
    "    def process(self, element):\n",
    "        fro = element.get(\"from\")\n",
    "        to = element.get(\"to\")\n",
    "\n",
    "        url = 'http://127.0.0.1:8000/content?from={}&to={}'.format(fro, to)\n",
    "        res = requests.get(url)\n",
    "        data  = res.json()\n",
    "        yield data\n"
   ]
  },
  {
   "cell_type": "code",
   "execution_count": 10,
   "metadata": {
    "tags": []
   },
   "outputs": [],
   "source": [
    "with beam.Pipeline() as p:\n",
    "    data = p | beam.Create(values= [{'from': 1, 'to': 20}])\n",
    "    ap_response = data | beam.ParDo(callAPI())\n",
    "    #ap_response | \"Print results\" >> beam.Map(print)\n",
    "    ap_response | \"Print results\" >> beam.io.WriteToText('data/twenty.txt')"
   ]
  },
  {
   "cell_type": "code",
   "execution_count": 14,
   "metadata": {
    "tags": []
   },
   "outputs": [
    {
     "name": "stdout",
     "output_type": "stream",
     "text": [
      "CSV file 'output.csv' has been created.\n"
     ]
    }
   ],
   "source": [
    "import csv\n",
    "from io import StringIO\n",
    "\n",
    "# Read the data from the file\n",
    "with open('data/twenty.txt-00000-of-00001', 'r') as file:\n",
    "    data = eval(file.read())  # Assuming the file contains valid Python data\n",
    "\n",
    "csv_output = StringIO()\n",
    "\n",
    "# Define the CSV header based on keys of the dictionaries in the nested list\n",
    "csv_header = data[0][0].keys()\n",
    "\n",
    "# Initialize the CSV writer\n",
    "csv_writer = csv.DictWriter(csv_output, fieldnames=csv_header)\n",
    "\n",
    "# Write the header\n",
    "csv_writer.writeheader()\n",
    "\n",
    "# Write each dictionary as a row\n",
    "for nested_list in data:\n",
    "    for dictionary in nested_list:\n",
    "        csv_writer.writerow(dictionary)\n",
    "\n",
    "# Get the CSV content as a string\n",
    "csv_content = csv_output.getvalue()\n",
    "\n",
    "# Write the CSV content to a file\n",
    "with open('output.csv', 'w') as csv_file:\n",
    "    csv_file.write(csv_content)\n",
    "\n",
    "    \n",
    "print(\"CSV file 'output.csv' has been created.\")"
   ]
  },
  {
   "cell_type": "code",
   "execution_count": null,
   "metadata": {},
   "outputs": [],
   "source": []
  }
 ],
 "metadata": {
  "kernelspec": {
   "display_name": "Python 3 (ipykernel)",
   "language": "python",
   "name": "python3"
  },
  "language_info": {
   "codemirror_mode": {
    "name": "ipython",
    "version": 3
   },
   "file_extension": ".py",
   "mimetype": "text/x-python",
   "name": "python",
   "nbconvert_exporter": "python",
   "pygments_lexer": "ipython3",
   "version": "3.10.9"
  },
  "vscode": {
   "interpreter": {
    "hash": "43bca339011d70287323575a90c6c81936d08a582ed533f035890365234b9de0"
   }
  }
 },
 "nbformat": 4,
 "nbformat_minor": 4
}
