{
 "cells": [
  {
   "cell_type": "code",
   "execution_count": 1,
   "metadata": {
    "tags": []
   },
   "outputs": [
    {
     "data": {
      "application/javascript": [
       "\n",
       "        if (typeof window.interactive_beam_jquery == 'undefined') {\n",
       "          var jqueryScript = document.createElement('script');\n",
       "          jqueryScript.src = 'https://code.jquery.com/jquery-3.4.1.slim.min.js';\n",
       "          jqueryScript.type = 'text/javascript';\n",
       "          jqueryScript.onload = function() {\n",
       "            var datatableScript = document.createElement('script');\n",
       "            datatableScript.src = 'https://cdn.datatables.net/1.10.20/js/jquery.dataTables.min.js';\n",
       "            datatableScript.type = 'text/javascript';\n",
       "            datatableScript.onload = function() {\n",
       "              window.interactive_beam_jquery = jQuery.noConflict(true);\n",
       "              window.interactive_beam_jquery(document).ready(function($){\n",
       "                \n",
       "              });\n",
       "            }\n",
       "            document.head.appendChild(datatableScript);\n",
       "          };\n",
       "          document.head.appendChild(jqueryScript);\n",
       "        } else {\n",
       "          window.interactive_beam_jquery(document).ready(function($){\n",
       "            \n",
       "          });\n",
       "        }"
      ]
     },
     "metadata": {},
     "output_type": "display_data"
    },
    {
     "name": "stderr",
     "output_type": "stream",
     "text": [
      "INFO:beam_postgres.client:Successfully execute query: INSERT INTO your_table_name(datetime, street_time, count, velocity) VALUES('2019-01-31 21:15:00', 1266.0, 21, 82.0952380952381);\n",
      "INSERT INTO your_table_name(datetime, street_time, count, velocity) VALUES('2019-02-09 07:15:00', 1222.0, 23, 84.6086956521739);\n",
      "INSERT INTO your_table_name(datetime, street_time, count, velocity) VALUES('2019-01-04 06:00:00', 145.0, 2, 14.5);\n",
      "INSERT INTO your_table_name(datetime, street_time, count, velocity) VALUES('2019-02-12 12:30:00', 2188.0, 10, 33.5);\n",
      "INSERT INTO your_table_name(datetime, street_time, count, velocity) VALUES('2019-01-08 03:15:00', 470.0, 2, 9.5);\n",
      "INSERT INTO your_table_name(datetime, street_time, count, velocity) VALUES('2019-01-08 06:15:00', 2818.0, 65, 69.61538461538461);\n",
      "INSERT INTO your_table_name(datetime, street_time, count, velocity) VALUES('2019-01-08 07:45:00', 10.0, 1, 23.0);\n",
      "INSERT INTO your_table_name(datetime, street_time, count, velocity) VALUES('2019-02-14 16:15:00', 213.0, 38, 30.07111528822055);\n",
      "INSERT INTO your_table_name(datetime, street_time, count, velocity) VALUES('2019-01-18 07:30:00', 663.0, 74, 74.29054054054055);\n",
      "INSERT INTO your_table_name(datetime, street_time, count, velocity) VALUES('2019-01-10 02:45:00', 1285.0, 19, 83.0);\n",
      "INFO:beam_postgres.client:Successfully execute query: INSERT INTO your_table_name(datetime, street_time, count, velocity) VALUES('2019-01-31 21:15:00', 1266.0, 21, 82.0952380952381);\n",
      "INSERT INTO your_table_name(datetime, street_time, count, velocity) VALUES('2019-02-09 07:15:00', 1222.0, 23, 84.6086956521739);\n",
      "INSERT INTO your_table_name(datetime, street_time, count, velocity) VALUES('2019-01-04 06:00:00', 145.0, 2, 14.5);\n",
      "INSERT INTO your_table_name(datetime, street_time, count, velocity) VALUES('2019-02-12 12:30:00', 2188.0, 10, 33.5);\n",
      "INSERT INTO your_table_name(datetime, street_time, count, velocity) VALUES('2019-01-08 03:15:00', 470.0, 2, 9.5);\n",
      "INSERT INTO your_table_name(datetime, street_time, count, velocity) VALUES('2019-01-08 06:15:00', 2818.0, 65, 69.61538461538461);\n",
      "INSERT INTO your_table_name(datetime, street_time, count, velocity) VALUES('2019-01-08 07:45:00', 10.0, 1, 23.0);\n",
      "INSERT INTO your_table_name(datetime, street_time, count, velocity) VALUES('2019-02-14 16:15:00', 213.0, 38, 30.07111528822055);\n",
      "INSERT INTO your_table_name(datetime, street_time, count, velocity) VALUES('2019-01-18 07:30:00', 663.0, 74, 74.29054054054055);\n",
      "INSERT INTO your_table_name(datetime, street_time, count, velocity) VALUES('2019-01-10 02:45:00', 1285.0, 19, 83.0);\n"
     ]
    }
   ],
   "source": [
    "import requests\n",
    "import apache_beam as beam\n",
    "from beam_postgres.io import WriteToPostgres\n",
    "\n",
    "class CallAPI(beam.DoFn):\n",
    "    def process(self, element):\n",
    "        url = 'http://127.0.0.1:8000/content/'\n",
    "        res = requests.get(url)\n",
    "        data_list = res.json()\n",
    "        \n",
    "        for data in data_list:\n",
    "            yield {\n",
    "                'datetime': data['datetime'],\n",
    "                'street_time': data['street_time'],\n",
    "                'count': data['count'],\n",
    "                'velocity': data['velocity']\n",
    "            }\n",
    "\n",
    "# Create a pipeline\n",
    "with beam.Pipeline() as p:\n",
    "    data = p | beam.Create(values=[{'from': 1, 'to': 100}])\n",
    "    ap_response = data | beam.ParDo(CallAPI())\n",
    "    #ap_response | \"Print results\" >> beam.Map(print)\n",
    "    \n",
    "    \n",
    "\n",
    "    # Write the ap_response data to PostgreSQL\n",
    "    ap_response | \"Write to PostgreSQL\" >> WriteToPostgres(\n",
    "        host='localhost',\n",
    "        database='transport',\n",
    "        user='postgres',\n",
    "        password='postgres',\n",
    "        table='your_table_name',\n",
    "        batch_size=1000,  # Adjust batch size as needed\n",
    "    )\n",
    "\n",
    "    #Run the pipeline\n",
    "    result = p.run()\n"
   ]
  },
  {
   "cell_type": "code",
   "execution_count": null,
   "metadata": {},
   "outputs": [],
   "source": []
  }
 ],
 "metadata": {
  "kernelspec": {
   "display_name": "Python 3 (ipykernel)",
   "language": "python",
   "name": "python3"
  },
  "language_info": {
   "codemirror_mode": {
    "name": "ipython",
    "version": 3
   },
   "file_extension": ".py",
   "mimetype": "text/x-python",
   "name": "python",
   "nbconvert_exporter": "python",
   "pygments_lexer": "ipython3",
   "version": "3.10.9"
  }
 },
 "nbformat": 4,
 "nbformat_minor": 4
}
