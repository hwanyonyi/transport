{
 "cells": [
  {
   "cell_type": "code",
   "execution_count": 1,
   "id": "e44f70f5-4e2f-4447-a8d8-3f0edf2f0f6e",
   "metadata": {
    "tags": []
   },
   "outputs": [
    {
     "data": {
      "application/javascript": [
       "\n",
       "        if (typeof window.interactive_beam_jquery == 'undefined') {\n",
       "          var jqueryScript = document.createElement('script');\n",
       "          jqueryScript.src = 'https://code.jquery.com/jquery-3.4.1.slim.min.js';\n",
       "          jqueryScript.type = 'text/javascript';\n",
       "          jqueryScript.onload = function() {\n",
       "            var datatableScript = document.createElement('script');\n",
       "            datatableScript.src = 'https://cdn.datatables.net/1.10.20/js/jquery.dataTables.min.js';\n",
       "            datatableScript.type = 'text/javascript';\n",
       "            datatableScript.onload = function() {\n",
       "              window.interactive_beam_jquery = jQuery.noConflict(true);\n",
       "              window.interactive_beam_jquery(document).ready(function($){\n",
       "                \n",
       "              });\n",
       "            }\n",
       "            document.head.appendChild(datatableScript);\n",
       "          };\n",
       "          document.head.appendChild(jqueryScript);\n",
       "        } else {\n",
       "          window.interactive_beam_jquery(document).ready(function($){\n",
       "            \n",
       "          });\n",
       "        }"
      ]
     },
     "metadata": {},
     "output_type": "display_data"
    },
    {
     "name": "stderr",
     "output_type": "stream",
     "text": [
      "WARNING:apache_beam.options.pipeline_options:Discarding unparseable args: ['-f', 'C:\\\\Users\\\\Wanyonyi\\\\AppData\\\\Roaming\\\\jupyter\\\\runtime\\\\kernel-d6c74395-396f-4fa3-942f-58e8b2e0f8b5.json']\n",
      "WARNING:apache_beam.options.pipeline_options:Discarding unparseable args: ['-f', 'C:\\\\Users\\\\Wanyonyi\\\\AppData\\\\Roaming\\\\jupyter\\\\runtime\\\\kernel-d6c74395-396f-4fa3-942f-58e8b2e0f8b5.json']\n",
      "INFO:beam_postgres.client:Successfully execute query: EXPLAIN SELECT * FROM (SELECT * FROM public.your_table_name) as subq\n",
      "INFO:beam_postgres.client:Successfully execute query: SELECT * FROM public.your_table_name\n"
     ]
    }
   ],
   "source": [
    "import apache_beam as beam\n",
    "from apache_beam.options.pipeline_options import PipelineOptions\n",
    "from beam_postgres import splitters\n",
    "from beam_postgres.io import ReadFromPostgres\n",
    "from datetime import datetime\n",
    "\n",
    "class FilterWeekends(beam.DoFn):\n",
    "    def process(self, element):\n",
    "        # Get the datetime from the element\n",
    "        dt = element['datetime']\n",
    "        \n",
    "        # Check if the day of the week is a weekend (5 or 6 are Saturday and Sunday)\n",
    "        if dt.weekday() >= 5:\n",
    "            yield element\n",
    "\n",
    "with beam.Pipeline(options=PipelineOptions()) as p:\n",
    "    read_from_postgres = ReadFromPostgres(\n",
    "            query=\"SELECT * FROM public.your_table_name;\",\n",
    "            host=\"localhost\",\n",
    "            database=\"transport\",\n",
    "            user=\"postgres\",\n",
    "            password=\"postgres\",\n",
    "            splitter=splitters.NoSplitter()  # you can select how to split query for performance\n",
    "    )\n",
    "\n",
    "    # Read data from PostgreSQL and store in a PCollection named 'data'\n",
    "    data = p | \"ReadFromPostgres\" >> read_from_postgres\n",
    "\n",
    "    # Use the 'data' PCollection and filter for weekend data\n",
    "    weekend_data = data | \"FilterWeekends\" >> beam.ParDo(FilterWeekends())\n",
    "\n",
    "    # Output weekend data to stdout or other downstream steps\n",
    "    (\n",
    "        weekend_data\n",
    "        #| \"WriteToStdout\" >> beam.Map(print)\n",
    "        | \"Write to file\" >> beam.io.WriteToText('data/to_hive1')\n",
    "        # Add more pipeline steps here\n",
    "    )\n"
   ]
  },
  {
   "cell_type": "code",
   "execution_count": 2,
   "id": "0adfc965-2270-4639-9419-5f183c1957af",
   "metadata": {},
   "outputs": [
    {
     "name": "stdout",
     "output_type": "stream",
     "text": [
      "CSV file \"output1.csv\" has been created.\n"
     ]
    }
   ],
   "source": [
    "import csv\n",
    "import datetime\n",
    "\n",
    "input_file = \"data/to_hive1-00000-of-00001\"\n",
    "csv_file = 'output1.csv'\n",
    "\n",
    "with open(input_file, 'r') as file:\n",
    "    lines = file.readlines()\n",
    "\n",
    "data = [eval(line) for line in lines if line.strip() != 'None']\n",
    "\n",
    "if data:\n",
    "    with open(csv_file, mode='w', newline='') as file:\n",
    "        fieldnames = data[0].keys()\n",
    "        writer = csv.DictWriter(file, fieldnames=fieldnames)\n",
    "\n",
    "        writer.writeheader()\n",
    "        for row in data:\n",
    "            writer.writerow(row)\n",
    "\n",
    "    print(f'CSV file \"{csv_file}\" has been created.')\n",
    "else:\n",
    "    print('No valid data found in the input file.')\n"
   ]
  },
  {
   "cell_type": "code",
   "execution_count": null,
   "id": "9c979a61-89a9-45d4-9822-1bcf07e69a98",
   "metadata": {},
   "outputs": [],
   "source": []
  }
 ],
 "metadata": {
  "kernelspec": {
   "display_name": "Python 3 (ipykernel)",
   "language": "python",
   "name": "python3"
  },
  "language_info": {
   "codemirror_mode": {
    "name": "ipython",
    "version": 3
   },
   "file_extension": ".py",
   "mimetype": "text/x-python",
   "name": "python",
   "nbconvert_exporter": "python",
   "pygments_lexer": "ipython3",
   "version": "3.10.9"
  }
 },
 "nbformat": 4,
 "nbformat_minor": 5
}
