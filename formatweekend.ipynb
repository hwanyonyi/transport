{
 "cells": [
  {
   "cell_type": "code",
   "execution_count": 1,
   "id": "97e285f3-bab4-4b29-b8d4-6e8210f082ee",
   "metadata": {
    "tags": []
   },
   "outputs": [
    {
     "data": {
      "application/javascript": [
       "\n",
       "        if (typeof window.interactive_beam_jquery == 'undefined') {\n",
       "          var jqueryScript = document.createElement('script');\n",
       "          jqueryScript.src = 'https://code.jquery.com/jquery-3.4.1.slim.min.js';\n",
       "          jqueryScript.type = 'text/javascript';\n",
       "          jqueryScript.onload = function() {\n",
       "            var datatableScript = document.createElement('script');\n",
       "            datatableScript.src = 'https://cdn.datatables.net/1.10.20/js/jquery.dataTables.min.js';\n",
       "            datatableScript.type = 'text/javascript';\n",
       "            datatableScript.onload = function() {\n",
       "              window.interactive_beam_jquery = jQuery.noConflict(true);\n",
       "              window.interactive_beam_jquery(document).ready(function($){\n",
       "                \n",
       "              });\n",
       "            }\n",
       "            document.head.appendChild(datatableScript);\n",
       "          };\n",
       "          document.head.appendChild(jqueryScript);\n",
       "        } else {\n",
       "          window.interactive_beam_jquery(document).ready(function($){\n",
       "            \n",
       "          });\n",
       "        }"
      ]
     },
     "metadata": {},
     "output_type": "display_data"
    },
    {
     "name": "stderr",
     "output_type": "stream",
     "text": [
      "WARNING:apache_beam.options.pipeline_options:Discarding unparseable args: ['-f', 'C:\\\\Users\\\\Wanyonyi\\\\AppData\\\\Roaming\\\\jupyter\\\\runtime\\\\kernel-96c63ef6-0e69-49c2-a96e-5d28f51dd5af.json']\n",
      "WARNING:apache_beam.options.pipeline_options:Discarding unparseable args: ['-f', 'C:\\\\Users\\\\Wanyonyi\\\\AppData\\\\Roaming\\\\jupyter\\\\runtime\\\\kernel-96c63ef6-0e69-49c2-a96e-5d28f51dd5af.json']\n",
      "INFO:beam_postgres.client:Successfully execute query: EXPLAIN SELECT * FROM (SELECT * FROM public.your_table_name) as subq\n",
      "INFO:beam_postgres.client:Successfully execute query: SELECT * FROM public.your_table_name\n"
     ]
    },
    {
     "name": "stdout",
     "output_type": "stream",
     "text": [
      "{'datetime': '2019-02-09 07:15:00', 'street_time': 1222.0, 'count': 23, 'velocity': 84.61}\n"
     ]
    }
   ],
   "source": [
    "import apache_beam as beam\n",
    "from apache_beam.options.pipeline_options import PipelineOptions\n",
    "from beam_postgres import splitters\n",
    "from beam_postgres.io import ReadFromPostgres\n",
    "from datetime import datetime\n",
    "\n",
    "class FilterWeekends(beam.DoFn):\n",
    "    def process(self, element):\n",
    "        # Get the datetime from the element\n",
    "        dt = element['datetime']\n",
    "        \n",
    "        # Check if the day of the week is a weekend (5 or 6 are Saturday and Sunday)\n",
    "        if dt.weekday() >= 5:\n",
    "            yield element\n",
    "\n",
    "class FormatDataFn(beam.DoFn):\n",
    "    def process(self, element):\n",
    "        # Format datetime to a user-friendly string\n",
    "        formatted_datetime = element['datetime'].strftime('%Y-%m-%d %H:%M:%S')\n",
    "        \n",
    "        # Format other values as needed\n",
    "        formatted_street_time = round(element['street_time'], 2)\n",
    "        formatted_count = element['count']\n",
    "        formatted_velocity = round(element['velocity'], 2)\n",
    "        \n",
    "        # Create a new dictionary with formatted values\n",
    "        formatted_element = {\n",
    "            'datetime': formatted_datetime,\n",
    "            'street_time': formatted_street_time,\n",
    "            'count': formatted_count,\n",
    "            'velocity': formatted_velocity\n",
    "        }\n",
    "        \n",
    "        yield formatted_element\n",
    "\n",
    "with beam.Pipeline(options=PipelineOptions()) as p:\n",
    "    read_from_postgres = ReadFromPostgres(\n",
    "            query=\"SELECT * FROM public.your_table_name;\",\n",
    "            host=\"localhost\",\n",
    "            database=\"transport\",\n",
    "            user=\"postgres\",\n",
    "            password=\"postgres\",\n",
    "            splitter=splitters.NoSplitter()  # you can select how to split query for performance\n",
    "    )\n",
    "\n",
    "    # Read data from PostgreSQL and store in a PCollection named 'data'\n",
    "    data = p | \"ReadFromPostgres\" >> read_from_postgres\n",
    "\n",
    "    # Use the 'data' PCollection and filter for weekend data\n",
    "    weekend_data = data | \"FilterWeekends\" >> beam.ParDo(FilterWeekends())\n",
    "\n",
    "    # Format the data using the FormatDataFn transformation\n",
    "    formatted_data = weekend_data | \"FormatData\" >> beam.ParDo(FormatDataFn())\n",
    "\n",
    "    # Output formatted data to stdout or other downstream steps\n",
    "    (\n",
    "        formatted_data\n",
    "        | \"WriteToStdout\" >> beam.Map(print)\n",
    "        | \"Write to file\" >> beam.io.WriteToText('data/formatted_to_hive')\n",
    "        # Add more pipeline steps here\n",
    "    )\n"
   ]
  },
  {
   "cell_type": "code",
   "execution_count": null,
   "id": "a13fe591-4541-4268-9d49-7f63af880c90",
   "metadata": {},
   "outputs": [],
   "source": []
  }
 ],
 "metadata": {
  "kernelspec": {
   "display_name": "Python 3 (ipykernel)",
   "language": "python",
   "name": "python3"
  },
  "language_info": {
   "codemirror_mode": {
    "name": "ipython",
    "version": 3
   },
   "file_extension": ".py",
   "mimetype": "text/x-python",
   "name": "python",
   "nbconvert_exporter": "python",
   "pygments_lexer": "ipython3",
   "version": "3.10.9"
  }
 },
 "nbformat": 4,
 "nbformat_minor": 5
}
