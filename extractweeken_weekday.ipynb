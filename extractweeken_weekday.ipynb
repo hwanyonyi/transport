{
 "cells": [
  {
   "cell_type": "code",
   "execution_count": 6,
   "id": "903999ec-42c4-4105-af20-c871de3e1f84",
   "metadata": {
    "tags": []
   },
   "outputs": [
    {
     "name": "stderr",
     "output_type": "stream",
     "text": [
      "WARNING:apache_beam.options.pipeline_options:Discarding unparseable args: ['-f', 'C:\\\\Users\\\\Wanyonyi\\\\AppData\\\\Roaming\\\\jupyter\\\\runtime\\\\kernel-e82f8668-619e-4479-843e-645eecd02f48.json']\n",
      "WARNING:apache_beam.options.pipeline_options:Discarding unparseable args: ['-f', 'C:\\\\Users\\\\Wanyonyi\\\\AppData\\\\Roaming\\\\jupyter\\\\runtime\\\\kernel-e82f8668-619e-4479-843e-645eecd02f48.json']\n",
      "INFO:beam_postgres.client:Successfully execute query: EXPLAIN SELECT * FROM (SELECT * FROM public.fifteen_minutes) as subq\n",
      "INFO:beam_postgres.client:Successfully execute query: SELECT * FROM public.fifteen_minutes\n"
     ]
    },
    {
     "name": "stdout",
     "output_type": "stream",
     "text": [
      "{'id': 2120983, 'datetime': '2019-01-31 21:15:00 UTC', 'street_time': 1266, 'count': 21, 'velocity': '82.10'}\n",
      "{'id': 2120984, 'datetime': '2019-02-09 07:15:00 UTC', 'street_time': 1222, 'count': 23, 'velocity': '84.61'}\n",
      "{'id': 2120985, 'datetime': '2019-01-04 06:00:00 UTC', 'street_time': 145, 'count': 2, 'velocity': '14.50'}\n",
      "{'id': 2120986, 'datetime': '2019-02-12 12:30:00 UTC', 'street_time': 2188, 'count': 10, 'velocity': '33.50'}\n",
      "{'id': 2120987, 'datetime': '2019-01-08 03:15:00 UTC', 'street_time': 470, 'count': 2, 'velocity': '9.50'}\n",
      "{'id': 2120988, 'datetime': '2019-01-08 06:15:00 UTC', 'street_time': 2818, 'count': 65, 'velocity': '69.62'}\n",
      "{'id': 2120989, 'datetime': '2019-01-08 07:45:00 UTC', 'street_time': 10, 'count': 1, 'velocity': '23.00'}\n",
      "{'id': 2120990, 'datetime': '2019-02-14 16:15:00 UTC', 'street_time': 213, 'count': 38, 'velocity': '30.07'}\n",
      "{'id': 2120991, 'datetime': '2019-01-18 07:30:00 UTC', 'street_time': 663, 'count': 74, 'velocity': '74.29'}\n",
      "{'id': 2120992, 'datetime': '2019-01-10 02:45:00 UTC', 'street_time': 1285, 'count': 19, 'velocity': '83.00'}\n",
      "{'id': 2120993, 'datetime': '2019-01-10 05:45:00 UTC', 'street_time': 1173, 'count': 1, 'velocity': '1.00'}\n",
      "{'id': 2120994, 'datetime': '2019-02-26 03:00:00 UTC', 'street_time': 1325, 'count': 2, 'velocity': '62.75'}\n",
      "{'id': 2120995, 'datetime': '2019-02-15 21:15:00 UTC', 'street_time': 1266, 'count': 9, 'velocity': '84.89'}\n",
      "{'id': 2120996, 'datetime': '2019-01-31 08:30:00 UTC', 'street_time': 1195, 'count': 4, 'velocity': '35.00'}\n",
      "{'id': 2120997, 'datetime': '2019-02-04 11:15:00 UTC', 'street_time': 382, 'count': 2, 'velocity': '8.50'}\n",
      "{'id': 2120998, 'datetime': '2019-01-18 16:45:00 UTC', 'street_time': 1434, 'count': 1, 'velocity': '6.00'}\n",
      "{'id': 2120999, 'datetime': '2019-02-19 11:15:00 UTC', 'street_time': 1442, 'count': 47, 'velocity': '87.51'}\n",
      "{'id': 2121000, 'datetime': '2019-01-25 08:00:00 UTC', 'street_time': 2390, 'count': 5, 'velocity': '10.80'}\n",
      "{'id': 2121001, 'datetime': '2019-02-05 06:45:00 UTC', 'street_time': 1325, 'count': 17, 'velocity': '21.71'}\n",
      "{'id': 2121002, 'datetime': '2019-01-14 08:00:00 UTC', 'street_time': 989, 'count': 9, 'velocity': '18.37'}\n"
     ]
    }
   ],
   "source": [
    "import apache_beam as beam\n",
    "from apache_beam.options.pipeline_options import PipelineOptions\n",
    "from beam_postgres import splitters\n",
    "from beam_postgres.io import ReadFromPostgres\n",
    "from datetime import datetime\n",
    "\n",
    "class FilterWeekends(beam.DoFn):\n",
    "    def process(self, element):\n",
    "        # Get the datetime from the element\n",
    "        dt = element['datetime']\n",
    "        \n",
    "        # Check if the day of the week is a weekend (5 or 6 are Saturday and Sunday)\n",
    "        if dt.weekday() >= 5:\n",
    "            yield element\n",
    "\n",
    "class FilterWeekdays(beam.DoFn):\n",
    "    def process(self, element):\n",
    "        # Get the datetime from the element\n",
    "        dt = element['datetime']\n",
    "        \n",
    "        # Check if the day of the week is a weekday (0 to 4 are Monday to Friday)\n",
    "        if dt.weekday() < 5:\n",
    "            yield element\n",
    "\n",
    "class FormatData(beam.DoFn):\n",
    "    def process(self, element):\n",
    "        formatted_element = {\n",
    "            'id': element['id'],\n",
    "            'datetime': element['datetime'].strftime('%Y-%m-%d %H:%M:%S UTC'),  # Format datetime as UTC string\n",
    "            'street_time': element['street_time'],\n",
    "            'count': element['count'],\n",
    "            'velocity': format(element['velocity'], '.2f')  # Format velocity to two decimal places\n",
    "        }\n",
    "        yield formatted_element\n",
    "\n",
    "with beam.Pipeline(options=PipelineOptions()) as p:\n",
    "    read_from_postgres = ReadFromPostgres(\n",
    "            query=\"SELECT * FROM public.fifteen_minutes;\",\n",
    "            host=\"localhost\",\n",
    "            database=\"test_db\",\n",
    "            user=\"postgres\",\n",
    "            password=\"postgres\",\n",
    "            splitter=splitters.NoSplitter()  # you can select how to split query for performance\n",
    "    )\n",
    "\n",
    "    # Read data from PostgreSQL and store in a PCollection named 'data'\n",
    "    data = p | \"ReadFromPostgres\" >> read_from_postgres\n",
    "\n",
    "    # Filter data for weekend and weekday separately\n",
    "    weekend_data = data | \"FilterWeekends\" >> beam.ParDo(FilterWeekends())\n",
    "    weekday_data = data | \"FilterWeekdays\" >> beam.ParDo(FilterWeekdays())\n",
    "\n",
    "    # Format the data for friendliness\n",
    "    formatted_weekend_data = weekend_data | \"FormatWeekendData\" >> beam.ParDo(FormatData())\n",
    "    formatted_weekday_data = weekday_data | \"FormatWeekdayData\" >> beam.ParDo(FormatData())\n",
    "\n",
    "    # Output formatted data to stdout or other downstream steps\n",
    "    (\n",
    "        formatted_weekend_data\n",
    "        | \"WriteWeekendToStdout\" >> beam.Map(print)\n",
    "        #| \"Write weekend to file\" >> beam.io.WriteToText('data/weekend_output')\n",
    "        # Add more pipeline steps here\n",
    "    )\n",
    "\n",
    "    (\n",
    "        formatted_weekday_data\n",
    "        | \"WriteWeekdayToStdout\" >> beam.Map(print)\n",
    "        #| \"Write weekday to file\" >> beam.io.WriteToText('data/weekday_output')\n",
    "        # Add more pipeline steps here\n",
    "    )\n"
   ]
  },
  {
   "cell_type": "code",
   "execution_count": null,
   "id": "28c7cf80-7b16-4837-b071-7955825d0dbd",
   "metadata": {},
   "outputs": [],
   "source": []
  }
 ],
 "metadata": {
  "kernelspec": {
   "display_name": "Python 3 (ipykernel)",
   "language": "python",
   "name": "python3"
  },
  "language_info": {
   "codemirror_mode": {
    "name": "ipython",
    "version": 3
   },
   "file_extension": ".py",
   "mimetype": "text/x-python",
   "name": "python",
   "nbconvert_exporter": "python",
   "pygments_lexer": "ipython3",
   "version": "3.10.9"
  }
 },
 "nbformat": 4,
 "nbformat_minor": 5
}
