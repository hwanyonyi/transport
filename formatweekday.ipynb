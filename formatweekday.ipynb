{
 "cells": [
  {
   "cell_type": "code",
   "execution_count": 1,
   "id": "e794e03d-308f-43af-b7b3-0824f567b60f",
   "metadata": {
    "tags": []
   },
   "outputs": [
    {
     "data": {
      "application/javascript": [
       "\n",
       "        if (typeof window.interactive_beam_jquery == 'undefined') {\n",
       "          var jqueryScript = document.createElement('script');\n",
       "          jqueryScript.src = 'https://code.jquery.com/jquery-3.4.1.slim.min.js';\n",
       "          jqueryScript.type = 'text/javascript';\n",
       "          jqueryScript.onload = function() {\n",
       "            var datatableScript = document.createElement('script');\n",
       "            datatableScript.src = 'https://cdn.datatables.net/1.10.20/js/jquery.dataTables.min.js';\n",
       "            datatableScript.type = 'text/javascript';\n",
       "            datatableScript.onload = function() {\n",
       "              window.interactive_beam_jquery = jQuery.noConflict(true);\n",
       "              window.interactive_beam_jquery(document).ready(function($){\n",
       "                \n",
       "              });\n",
       "            }\n",
       "            document.head.appendChild(datatableScript);\n",
       "          };\n",
       "          document.head.appendChild(jqueryScript);\n",
       "        } else {\n",
       "          window.interactive_beam_jquery(document).ready(function($){\n",
       "            \n",
       "          });\n",
       "        }"
      ]
     },
     "metadata": {},
     "output_type": "display_data"
    },
    {
     "name": "stderr",
     "output_type": "stream",
     "text": [
      "WARNING:apache_beam.options.pipeline_options:Discarding unparseable args: ['-f', 'C:\\\\Users\\\\Wanyonyi\\\\AppData\\\\Roaming\\\\jupyter\\\\runtime\\\\kernel-9014e656-19ab-4fd6-819e-9c0052c1a035.json']\n",
      "WARNING:apache_beam.options.pipeline_options:Discarding unparseable args: ['-f', 'C:\\\\Users\\\\Wanyonyi\\\\AppData\\\\Roaming\\\\jupyter\\\\runtime\\\\kernel-9014e656-19ab-4fd6-819e-9c0052c1a035.json']\n",
      "INFO:beam_postgres.client:Successfully execute query: EXPLAIN SELECT * FROM (SELECT * FROM public.your_table_name) as subq\n",
      "INFO:beam_postgres.client:Successfully execute query: SELECT * FROM public.your_table_name\n"
     ]
    }
   ],
   "source": [
    "import apache_beam as beam\n",
    "from apache_beam.options.pipeline_options import PipelineOptions\n",
    "from beam_postgres import splitters\n",
    "from beam_postgres.io import ReadFromPostgres\n",
    "from datetime import datetime\n",
    "\n",
    "class FilterWeekdays(beam.DoFn):\n",
    "    def process(self, element):\n",
    "        # Get the datetime from the element\n",
    "        dt = element['datetime']\n",
    "        \n",
    "        # Check if the day of the week is a weekday (0-4 are Monday-Friday)\n",
    "        if dt.weekday() < 5:\n",
    "            yield element\n",
    "\n",
    "class FormatDataFn(beam.DoFn):\n",
    "    def process(self, element):\n",
    "        # Format datetime to a user-friendly string\n",
    "        formatted_datetime = element['datetime'].strftime('%Y-%m-%d %H:%M:%S')\n",
    "        \n",
    "        # Format other values as needed\n",
    "        formatted_street_time = round(element['street_time'], 2)\n",
    "        formatted_count = element['count']\n",
    "        formatted_velocity = round(element['velocity'], 2)\n",
    "        \n",
    "        # Create a new dictionary with formatted values\n",
    "        formatted_element = {\n",
    "            'datetime': formatted_datetime,\n",
    "            'street_time': formatted_street_time,\n",
    "            'count': formatted_count,\n",
    "            'velocity': formatted_velocity\n",
    "        }\n",
    "        \n",
    "        yield formatted_element\n",
    "\n",
    "with beam.Pipeline(options=PipelineOptions()) as p:\n",
    "    read_from_postgres = ReadFromPostgres(\n",
    "            query=\"SELECT * FROM public.your_table_name;\",\n",
    "            host=\"localhost\",\n",
    "            database=\"transport\",\n",
    "            user=\"postgres\",\n",
    "            password=\"postgres\",\n",
    "            splitter=splitters.NoSplitter()  # you can select how to split query for performance\n",
    "    )\n",
    "\n",
    "    # Read data from PostgreSQL and store in a PCollection named 'data'\n",
    "    data = p | \"ReadFromPostgres\" >> read_from_postgres\n",
    "\n",
    "    # Use the 'data' PCollection and filter out weekdays\n",
    "    weekday_data = data | \"FilterWeekdays\" >> beam.ParDo(FilterWeekdays())\n",
    "\n",
    "    # Format the data using the FormatDataFn transformation\n",
    "    formatted_weekday_data = weekday_data | \"FormatData\" >> beam.ParDo(FormatDataFn())\n",
    "\n",
    "    # Output formatted weekday data to stdout or other downstream steps\n",
    "    (\n",
    "        formatted_weekday_data\n",
    "        #| \"WriteToStdout\" >> beam.Map(print)\n",
    "        | \"Write to file\" >> beam.io.WriteToText('nifi/nifi/conf/source1/formatted_weekdays')\n",
    "        # Add more pipeline steps here\n",
    "    )\n"
   ]
  },
  {
   "cell_type": "code",
   "execution_count": 2,
   "id": "8a525435-1c5b-40c7-a233-da27c9355646",
   "metadata": {
    "tags": []
   },
   "outputs": [
    {
     "name": "stdout",
     "output_type": "stream",
     "text": [
      "CSV file \"nifi/nifi/conf/source1/weekdays.csv\" has been created.\n"
     ]
    }
   ],
   "source": [
    "import csv\n",
    "import datetime\n",
    "\n",
    "input_file = \"nifi/nifi/conf/source1/formatted_weekdays-00000-of-00001\"\n",
    "csv_file = 'nifi/nifi/conf/source1/weekdays.csv'\n",
    "\n",
    "with open(input_file, 'r') as file:\n",
    "    lines = file.readlines()\n",
    "\n",
    "data = [eval(line) for line in lines if line.strip() != 'None']\n",
    "\n",
    "if data:\n",
    "    with open(csv_file, mode='w', newline='') as file:\n",
    "        fieldnames = data[0].keys()\n",
    "        writer = csv.DictWriter(file, fieldnames=fieldnames)\n",
    "\n",
    "        writer.writeheader()\n",
    "        for row in data:\n",
    "            writer.writerow(row)\n",
    "\n",
    "    print(f'CSV file \"{csv_file}\" has been created.')\n",
    "else:\n",
    "    print('No valid data found in the input file.')"
   ]
  },
  {
   "cell_type": "code",
   "execution_count": null,
   "id": "d24b95ca-20e4-45c9-9877-1e1e02b3c394",
   "metadata": {},
   "outputs": [],
   "source": []
  }
 ],
 "metadata": {
  "kernelspec": {
   "display_name": "Python 3 (ipykernel)",
   "language": "python",
   "name": "python3"
  },
  "language_info": {
   "codemirror_mode": {
    "name": "ipython",
    "version": 3
   },
   "file_extension": ".py",
   "mimetype": "text/x-python",
   "name": "python",
   "nbconvert_exporter": "python",
   "pygments_lexer": "ipython3",
   "version": "3.10.9"
  }
 },
 "nbformat": 4,
 "nbformat_minor": 5
}
