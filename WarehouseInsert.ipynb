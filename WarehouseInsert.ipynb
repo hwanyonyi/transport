{
 "cells": [
  {
   "cell_type": "code",
   "execution_count": 1,
   "id": "36c30889-6b44-4cfd-b99c-2f9803d9a319",
   "metadata": {
    "tags": []
   },
   "outputs": [
    {
     "data": {
      "application/javascript": [
       "\n",
       "        if (typeof window.interactive_beam_jquery == 'undefined') {\n",
       "          var jqueryScript = document.createElement('script');\n",
       "          jqueryScript.src = 'https://code.jquery.com/jquery-3.4.1.slim.min.js';\n",
       "          jqueryScript.type = 'text/javascript';\n",
       "          jqueryScript.onload = function() {\n",
       "            var datatableScript = document.createElement('script');\n",
       "            datatableScript.src = 'https://cdn.datatables.net/1.10.20/js/jquery.dataTables.min.js';\n",
       "            datatableScript.type = 'text/javascript';\n",
       "            datatableScript.onload = function() {\n",
       "              window.interactive_beam_jquery = jQuery.noConflict(true);\n",
       "              window.interactive_beam_jquery(document).ready(function($){\n",
       "                \n",
       "              });\n",
       "            }\n",
       "            document.head.appendChild(datatableScript);\n",
       "          };\n",
       "          document.head.appendChild(jqueryScript);\n",
       "        } else {\n",
       "          window.interactive_beam_jquery(document).ready(function($){\n",
       "            \n",
       "          });\n",
       "        }"
      ]
     },
     "metadata": {},
     "output_type": "display_data"
    },
    {
     "name": "stderr",
     "output_type": "stream",
     "text": [
      "WARNING:apache_beam.options.pipeline_options:Discarding unparseable args: ['-f', 'C:\\\\Users\\\\Wanyonyi\\\\AppData\\\\Roaming\\\\jupyter\\\\runtime\\\\kernel-3af6eb66-ebdf-467f-96a3-2689d493a571.json']\n",
      "WARNING:apache_beam.options.pipeline_options:Discarding unparseable args: ['-f', 'C:\\\\Users\\\\Wanyonyi\\\\AppData\\\\Roaming\\\\jupyter\\\\runtime\\\\kernel-3af6eb66-ebdf-467f-96a3-2689d493a571.json']\n",
      "INFO:beam_postgres.client:Successfully execute query: INSERT INTO your_table_name(datetime, street_time, count, velocity) VALUES('2019-01-31 21:15:00', 1266.0, 21, 82.0952380952381);\n",
      "INSERT INTO your_table_name(datetime, street_time, count, velocity) VALUES('2019-02-09 07:15:00', 1222.0, 23, 84.6086956521739);\n",
      "INSERT INTO your_table_name(datetime, street_time, count, velocity) VALUES('2019-01-04 06:00:00', 145.0, 2, 14.5);\n",
      "INSERT INTO your_table_name(datetime, street_time, count, velocity) VALUES('2019-02-12 12:30:00', 2188.0, 10, 33.5);\n",
      "INSERT INTO your_table_name(datetime, street_time, count, velocity) VALUES('2019-01-08 03:15:00', 470.0, 2, 9.5);\n",
      "INSERT INTO your_table_name(datetime, street_time, count, velocity) VALUES('2019-01-08 06:15:00', 2818.0, 65, 69.61538461538461);\n",
      "INSERT INTO your_table_name(datetime, street_time, count, velocity) VALUES('2019-01-08 07:45:00', 10.0, 1, 23.0);\n",
      "INSERT INTO your_table_name(datetime, street_time, count, velocity) VALUES('2019-02-14 16:15:00', 213.0, 38, 30.07111528822055);\n",
      "INSERT INTO your_table_name(datetime, street_time, count, velocity) VALUES('2019-01-18 07:30:00', 663.0, 74, 74.29054054054055);\n",
      "INSERT INTO your_table_name(datetime, street_time, count, velocity) VALUES('2019-01-10 02:45:00', 1285.0, 19, 83.0);\n",
      "INSERT INTO your_table_name(datetime, street_time, count, velocity) VALUES('2019-01-10 05:45:00', 1173.0, 1, 1.0);\n",
      "INSERT INTO your_table_name(datetime, street_time, count, velocity) VALUES('2019-02-26 03:00:00', 1325.0, 2, 62.75);\n",
      "INSERT INTO your_table_name(datetime, street_time, count, velocity) VALUES('2019-02-15 21:15:00', 1266.0, 9, 84.88888888888889);\n",
      "INSERT INTO your_table_name(datetime, street_time, count, velocity) VALUES('2019-01-31 08:30:00', 1195.0, 4, 35.0);\n",
      "INSERT INTO your_table_name(datetime, street_time, count, velocity) VALUES('2019-02-04 11:15:00', 382.0, 2, 8.5);\n",
      "INSERT INTO your_table_name(datetime, street_time, count, velocity) VALUES('2019-01-18 16:45:00', 1434.0, 1, 6.0);\n",
      "INSERT INTO your_table_name(datetime, street_time, count, velocity) VALUES('2019-02-19 11:15:00', 1442.0, 47, 87.51063829787235);\n",
      "INSERT INTO your_table_name(datetime, street_time, count, velocity) VALUES('2019-01-25 08:00:00', 2390.0, 5, 10.8);\n",
      "INSERT INTO your_table_name(datetime, street_time, count, velocity) VALUES('2019-02-05 06:45:00', 1325.0, 17, 21.70924565630448);\n",
      "INSERT INTO your_table_name(datetime, street_time, count, velocity) VALUES('2019-01-14 08:00:00', 989.0, 9, 18.370370370370367);\n"
     ]
    }
   ],
   "source": [
    "import apache_beam as beam\n",
    "from apache_beam.options.pipeline_options import PipelineOptions\n",
    "from beam_postgres.io import WriteToPostgres\n",
    "import csv\n",
    "\n",
    "# PostgreSQL connection configuration\n",
    "postgres_config = {\n",
    "    'host': 'localhost',\n",
    "    'database': 'transport',\n",
    "    'user': 'postgres',\n",
    "    'password': 'postgres',\n",
    "}\n",
    "\n",
    "class ProcessCSVFn(beam.DoFn):\n",
    "    def process(self, element):\n",
    "        # Convert the comma-separated values to a dictionary\n",
    "        data = {\n",
    "            'datetime': element[0],\n",
    "            'street_time': float(element[1]),\n",
    "            'count': int(element[2]),\n",
    "            'velocity': float(element[3])\n",
    "        }\n",
    "        yield data\n",
    "\n",
    "# Create a pipeline\n",
    "with beam.Pipeline(options=PipelineOptions()) as p:\n",
    "    # Read CSV data\n",
    "    csv_data = (\n",
    "        p\n",
    "        | 'Read CSV' >> beam.io.ReadFromText('output.csv', skip_header_lines=1)  # Skip the header row\n",
    "        | 'Parse CSV' >> beam.Map(lambda line: next(csv.reader([line])))\n",
    "    )\n",
    "\n",
    "    # Process CSV data\n",
    "    processed_data = csv_data | 'Process Data' >> beam.ParDo(ProcessCSVFn())\n",
    "\n",
    "    # Write processed data to PostgreSQL\n",
    "    processed_data | 'Write to PostgreSQL' >> WriteToPostgres(\n",
    "        table='your_table_name',\n",
    "        host='localhost',\n",
    "        database='transport',\n",
    "        user='postgres',\n",
    "        password='postgres',\n",
    "        batch_size=1000\n",
    "    )\n"
   ]
  },
  {
   "cell_type": "code",
   "execution_count": null,
   "id": "51382ce3-afaa-41de-b047-ba154bb5456b",
   "metadata": {},
   "outputs": [],
   "source": []
  }
 ],
 "metadata": {
  "kernelspec": {
   "display_name": "Python 3 (ipykernel)",
   "language": "python",
   "name": "python3"
  },
  "language_info": {
   "codemirror_mode": {
    "name": "ipython",
    "version": 3
   },
   "file_extension": ".py",
   "mimetype": "text/x-python",
   "name": "python",
   "nbconvert_exporter": "python",
   "pygments_lexer": "ipython3",
   "version": "3.10.9"
  }
 },
 "nbformat": 4,
 "nbformat_minor": 5
}
