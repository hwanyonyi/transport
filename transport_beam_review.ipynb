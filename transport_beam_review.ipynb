{
 "cells": [
  {
   "cell_type": "code",
   "execution_count": 17,
   "metadata": {
    "tags": []
   },
   "outputs": [
    {
     "name": "stderr",
     "output_type": "stream",
     "text": [
      "WARNING:apache_beam.options.pipeline_options:Discarding unparseable args: ['-f', 'C:\\\\Users\\\\Wanyonyi\\\\AppData\\\\Roaming\\\\jupyter\\\\runtime\\\\kernel-ffad2f45-8129-473b-9692-f61b46abc31a.json']\n"
     ]
    }
   ],
   "source": [
    "import apache_beam as beam\n",
    "import psycopg2\n",
    "import requests\n",
    "from apache_beam.options.pipeline_options import PipelineOptions\n",
    "\n",
    "class InsertToPostgres(beam.DoFn):\n",
    "    def __init__(self, connection_string):\n",
    "        self.connection_string = connection_string\n",
    "\n",
    "    def process(self, element):\n",
    "        try:\n",
    "            connection = psycopg2.connect(self.connection_string)\n",
    "            cursor = connection.cursor()\n",
    "\n",
    "            insert_query = \"INSERT INTO fifteen_minutes (datetime, street_time, count, velocity) VALUES (%s, %s, %s, %s)\"\n",
    "\n",
    "            for item in element:\n",
    "                values = (item['datetime'], item['street_time'], item['count'], item['velocity'])\n",
    "                cursor.execute(insert_query, values)\n",
    "                connection.commit()\n",
    "        except Exception as e:\n",
    "            print(f\"Error inserting data: {e}\")\n",
    "        finally:\n",
    "            cursor.close()\n",
    "            connection.close()\n",
    "\n",
    "class CallAPI(beam.DoFn):\n",
    "    def process(self, element):\n",
    "        fro = element.get(\"from\")\n",
    "        to = element.get(\"to\")\n",
    "\n",
    "        url = 'http://127.0.0.1:8000/content?from={}&to={}'.format(fro, to)\n",
    "        res = requests.get(url)\n",
    "        data = res.json()\n",
    "        for item in data:\n",
    "            yield item\n",
    "\n",
    "def run():\n",
    "    pipeline_options = PipelineOptions()\n",
    "\n",
    "    with beam.Pipeline(options=pipeline_options) as p:\n",
    "        data = p | beam.Create(values=[{'from': 1, 'to': 20}])\n",
    "        connection_string = \"dbname=test_db user=postgres password=postgres host=localhost port=5432\"\n",
    "\n",
    "        api_response = data | \"Call API\" >> beam.ParDo(CallAPI())\n",
    "        api_response | \"Insert to PostgreSQL\" >> beam.ParDo(InsertToPostgres(connection_string))\n",
    "\n",
    "if __name__ == '__main__':\n",
    "    run()\n"
   ]
  },
  {
   "cell_type": "code",
   "execution_count": null,
   "metadata": {},
   "outputs": [],
   "source": []
  }
 ],
 "metadata": {
  "kernelspec": {
   "display_name": "Python 3 (ipykernel)",
   "language": "python",
   "name": "python3"
  },
  "language_info": {
   "codemirror_mode": {
    "name": "ipython",
    "version": 3
   },
   "file_extension": ".py",
   "mimetype": "text/x-python",
   "name": "python",
   "nbconvert_exporter": "python",
   "pygments_lexer": "ipython3",
   "version": "3.10.9"
  },
  "vscode": {
   "interpreter": {
    "hash": "43bca339011d70287323575a90c6c81936d08a582ed533f035890365234b9de0"
   }
  }
 },
 "nbformat": 4,
 "nbformat_minor": 4
}
