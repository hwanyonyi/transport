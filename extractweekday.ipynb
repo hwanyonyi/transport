{
 "cells": [
  {
   "cell_type": "code",
   "execution_count": 2,
   "id": "7edf6fd2-0ae1-41db-a533-aab543774cbc",
   "metadata": {
    "tags": []
   },
   "outputs": [
    {
     "name": "stderr",
     "output_type": "stream",
     "text": [
      "WARNING:apache_beam.options.pipeline_options:Discarding unparseable args: ['-f', 'C:\\\\Users\\\\Wanyonyi\\\\AppData\\\\Roaming\\\\jupyter\\\\runtime\\\\kernel-f7868f0b-288f-4a8d-9aa1-fdbc465d65c7.json']\n",
      "WARNING:apache_beam.options.pipeline_options:Discarding unparseable args: ['-f', 'C:\\\\Users\\\\Wanyonyi\\\\AppData\\\\Roaming\\\\jupyter\\\\runtime\\\\kernel-f7868f0b-288f-4a8d-9aa1-fdbc465d65c7.json']\n",
      "INFO:beam_postgres.client:Successfully execute query: EXPLAIN SELECT * FROM (SELECT * FROM public.your_table_name) as subq\n",
      "INFO:beam_postgres.client:Successfully execute query: SELECT * FROM public.your_table_name\n"
     ]
    },
    {
     "name": "stdout",
     "output_type": "stream",
     "text": [
      "{'datetime': datetime.datetime(2019, 1, 31, 21, 15), 'street_time': 1266.0, 'count': 21, 'velocity': 82.0952380952381}\n",
      "{'datetime': datetime.datetime(2019, 1, 4, 6, 0), 'street_time': 145.0, 'count': 2, 'velocity': 14.5}\n",
      "{'datetime': datetime.datetime(2019, 2, 12, 12, 30), 'street_time': 2188.0, 'count': 10, 'velocity': 33.5}\n",
      "{'datetime': datetime.datetime(2019, 1, 8, 3, 15), 'street_time': 470.0, 'count': 2, 'velocity': 9.5}\n",
      "{'datetime': datetime.datetime(2019, 1, 8, 6, 15), 'street_time': 2818.0, 'count': 65, 'velocity': 69.61538461538461}\n",
      "{'datetime': datetime.datetime(2019, 1, 8, 7, 45), 'street_time': 10.0, 'count': 1, 'velocity': 23.0}\n",
      "{'datetime': datetime.datetime(2019, 2, 14, 16, 15), 'street_time': 213.0, 'count': 38, 'velocity': 30.07111528822055}\n",
      "{'datetime': datetime.datetime(2019, 1, 18, 7, 30), 'street_time': 663.0, 'count': 74, 'velocity': 74.29054054054055}\n",
      "{'datetime': datetime.datetime(2019, 1, 10, 2, 45), 'street_time': 1285.0, 'count': 19, 'velocity': 83.0}\n",
      "{'datetime': datetime.datetime(2019, 1, 10, 5, 45), 'street_time': 1173.0, 'count': 1, 'velocity': 1.0}\n",
      "{'datetime': datetime.datetime(2019, 2, 26, 3, 0), 'street_time': 1325.0, 'count': 2, 'velocity': 62.75}\n",
      "{'datetime': datetime.datetime(2019, 2, 15, 21, 15), 'street_time': 1266.0, 'count': 9, 'velocity': 84.88888888888889}\n",
      "{'datetime': datetime.datetime(2019, 1, 31, 8, 30), 'street_time': 1195.0, 'count': 4, 'velocity': 35.0}\n",
      "{'datetime': datetime.datetime(2019, 2, 4, 11, 15), 'street_time': 382.0, 'count': 2, 'velocity': 8.5}\n",
      "{'datetime': datetime.datetime(2019, 1, 18, 16, 45), 'street_time': 1434.0, 'count': 1, 'velocity': 6.0}\n",
      "{'datetime': datetime.datetime(2019, 2, 19, 11, 15), 'street_time': 1442.0, 'count': 47, 'velocity': 87.51063829787235}\n",
      "{'datetime': datetime.datetime(2019, 1, 25, 8, 0), 'street_time': 2390.0, 'count': 5, 'velocity': 10.8}\n",
      "{'datetime': datetime.datetime(2019, 2, 5, 6, 45), 'street_time': 1325.0, 'count': 17, 'velocity': 21.70924565630448}\n",
      "{'datetime': datetime.datetime(2019, 1, 14, 8, 0), 'street_time': 989.0, 'count': 9, 'velocity': 18.370370370370367}\n"
     ]
    }
   ],
   "source": [
    "import apache_beam as beam\n",
    "from apache_beam.options.pipeline_options import PipelineOptions\n",
    "from beam_postgres import splitters\n",
    "from beam_postgres.io import ReadFromPostgres\n",
    "from datetime import datetime\n",
    "\n",
    "class FilterWeekdays(beam.DoFn):\n",
    "    def process(self, element):\n",
    "        # Get the datetime from the element\n",
    "        dt = element['datetime']\n",
    "        \n",
    "        # Check if the day of the week is a weekday (0-4 are Monday-Friday)\n",
    "        if dt.weekday() < 5:\n",
    "            yield element\n",
    "\n",
    "with beam.Pipeline(options=PipelineOptions()) as p:\n",
    "    read_from_postgres = ReadFromPostgres(\n",
    "            query=\"SELECT * FROM public.your_table_name;\",\n",
    "            host=\"localhost\",\n",
    "            database=\"transport\",\n",
    "            user=\"postgres\",\n",
    "            password=\"postgres\",\n",
    "            splitter=splitters.NoSplitter()  # you can select how to split query for performance\n",
    "    )\n",
    "\n",
    "    # Read data from PostgreSQL and store in a PCollection named 'data'\n",
    "    data = p | \"ReadFromPostgres\" >> read_from_postgres\n",
    "\n",
    "    # Use the 'data' PCollection and filter out weekends\n",
    "    filtered_data = data | \"FilterWeekdays\" >> beam.ParDo(FilterWeekdays())\n",
    "\n",
    "    # Output filtered data to stdout or other downstream steps\n",
    "    (\n",
    "        filtered_data\n",
    "        | \"WriteToStdout\" >> beam.Map(print)\n",
    "        # Add more pipeline steps here\n",
    "    )\n"
   ]
  },
  {
   "cell_type": "code",
   "execution_count": null,
   "id": "6d3de85f-757e-493b-9c87-69f1e71d8e3e",
   "metadata": {},
   "outputs": [],
   "source": []
  }
 ],
 "metadata": {
  "kernelspec": {
   "display_name": "Python 3 (ipykernel)",
   "language": "python",
   "name": "python3"
  },
  "language_info": {
   "codemirror_mode": {
    "name": "ipython",
    "version": 3
   },
   "file_extension": ".py",
   "mimetype": "text/x-python",
   "name": "python",
   "nbconvert_exporter": "python",
   "pygments_lexer": "ipython3",
   "version": "3.10.9"
  }
 },
 "nbformat": 4,
 "nbformat_minor": 5
}
