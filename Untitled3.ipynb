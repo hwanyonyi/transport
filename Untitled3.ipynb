{
 "cells": [
  {
   "cell_type": "code",
   "execution_count": 1,
   "id": "d8809981-14b3-40ee-aa28-b08f2376d666",
   "metadata": {
    "tags": []
   },
   "outputs": [
    {
     "data": {
      "application/javascript": [
       "\n",
       "        if (typeof window.interactive_beam_jquery == 'undefined') {\n",
       "          var jqueryScript = document.createElement('script');\n",
       "          jqueryScript.src = 'https://code.jquery.com/jquery-3.4.1.slim.min.js';\n",
       "          jqueryScript.type = 'text/javascript';\n",
       "          jqueryScript.onload = function() {\n",
       "            var datatableScript = document.createElement('script');\n",
       "            datatableScript.src = 'https://cdn.datatables.net/1.10.20/js/jquery.dataTables.min.js';\n",
       "            datatableScript.type = 'text/javascript';\n",
       "            datatableScript.onload = function() {\n",
       "              window.interactive_beam_jquery = jQuery.noConflict(true);\n",
       "              window.interactive_beam_jquery(document).ready(function($){\n",
       "                \n",
       "              });\n",
       "            }\n",
       "            document.head.appendChild(datatableScript);\n",
       "          };\n",
       "          document.head.appendChild(jqueryScript);\n",
       "        } else {\n",
       "          window.interactive_beam_jquery(document).ready(function($){\n",
       "            \n",
       "          });\n",
       "        }"
      ]
     },
     "metadata": {},
     "output_type": "display_data"
    },
    {
     "name": "stdout",
     "output_type": "stream",
     "text": [
      "{'datetime': '2019-02-09 07:15:00', 'street_time': 1222.0, 'count': 23, 'velocity': 84.61}\n"
     ]
    }
   ],
   "source": [
    "import apache_beam as beam\n",
    "import datetime\n",
    "\n",
    "# Sample input data\n",
    "data = [\n",
    "    {'datetime': datetime.datetime(2019, 2, 9, 7, 15), 'street_time': 1222.0, 'count': 23, 'velocity': 84.6086956521739}\n",
    "    # Add more data dictionaries here\n",
    "]\n",
    "\n",
    "def format_data(element):\n",
    "    # Format datetime to a user-friendly string\n",
    "    formatted_datetime = element['datetime'].strftime('%Y-%m-%d %H:%M:%S')\n",
    "    \n",
    "    # Format other values as needed\n",
    "    formatted_street_time = round(element['street_time'], 2)\n",
    "    formatted_count = element['count']\n",
    "    formatted_velocity = round(element['velocity'], 2)\n",
    "    \n",
    "    # Create a new dictionary with formatted values\n",
    "    formatted_element = {\n",
    "        'datetime': formatted_datetime,\n",
    "        'street_time': formatted_street_time,\n",
    "        'count': formatted_count,\n",
    "        'velocity': formatted_velocity\n",
    "    }\n",
    "    return formatted_element\n",
    "\n",
    "# Create a pipeline\n",
    "with beam.Pipeline() as p:\n",
    "    formatted_data = (\n",
    "        p\n",
    "        | beam.Create(data)  # Replace with reading data from a file or other source\n",
    "        | beam.Map(format_data)\n",
    "    )\n",
    "\n",
    "    # Output the formatted data (you can replace this with writing to a file or database)\n",
    "    formatted_data | beam.Map(print)\n"
   ]
  },
  {
   "cell_type": "code",
   "execution_count": null,
   "id": "c98c22ed-21db-4cb1-ae5f-bba76e1cfbf7",
   "metadata": {},
   "outputs": [],
   "source": []
  }
 ],
 "metadata": {
  "kernelspec": {
   "display_name": "Python 3 (ipykernel)",
   "language": "python",
   "name": "python3"
  },
  "language_info": {
   "codemirror_mode": {
    "name": "ipython",
    "version": 3
   },
   "file_extension": ".py",
   "mimetype": "text/x-python",
   "name": "python",
   "nbconvert_exporter": "python",
   "pygments_lexer": "ipython3",
   "version": "3.10.9"
  }
 },
 "nbformat": 4,
 "nbformat_minor": 5
}
