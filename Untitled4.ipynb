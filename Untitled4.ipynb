{
 "cells": [
  {
   "cell_type": "code",
   "execution_count": 2,
   "id": "70d2da42-a654-409a-b292-caeace8f3eda",
   "metadata": {
    "tags": []
   },
   "outputs": [
    {
     "name": "stderr",
     "output_type": "stream",
     "text": [
      "WARNING:apache_beam.options.pipeline_options:Discarding unparseable args: ['-f', 'C:\\\\Users\\\\Wanyonyi\\\\AppData\\\\Roaming\\\\jupyter\\\\runtime\\\\kernel-2dd5ef5e-0385-4bd5-b364-10c852a6c7c6.json']\n",
      "WARNING:apache_beam.options.pipeline_options:Discarding unparseable args: ['-f', 'C:\\\\Users\\\\Wanyonyi\\\\AppData\\\\Roaming\\\\jupyter\\\\runtime\\\\kernel-2dd5ef5e-0385-4bd5-b364-10c852a6c7c6.json']\n",
      "INFO:beam_postgres.client:Successfully execute query: EXPLAIN SELECT * FROM (SELECT * FROM public.your_table_name) as subq\n",
      "INFO:beam_postgres.client:Successfully execute query: SELECT * FROM public.your_table_name\n"
     ]
    },
    {
     "name": "stdout",
     "output_type": "stream",
     "text": [
      "{'datetime': '2019-01-31 21:15:00', 'street_time': 1266.0, 'count': 21, 'velocity': 82.1}\n",
      "{'datetime': '2019-01-04 06:00:00', 'street_time': 145.0, 'count': 2, 'velocity': 14.5}\n",
      "{'datetime': '2019-02-12 12:30:00', 'street_time': 2188.0, 'count': 10, 'velocity': 33.5}\n",
      "{'datetime': '2019-01-08 03:15:00', 'street_time': 470.0, 'count': 2, 'velocity': 9.5}\n",
      "{'datetime': '2019-01-08 06:15:00', 'street_time': 2818.0, 'count': 65, 'velocity': 69.62}\n",
      "{'datetime': '2019-01-08 07:45:00', 'street_time': 10.0, 'count': 1, 'velocity': 23.0}\n",
      "{'datetime': '2019-02-14 16:15:00', 'street_time': 213.0, 'count': 38, 'velocity': 30.07}\n",
      "{'datetime': '2019-01-18 07:30:00', 'street_time': 663.0, 'count': 74, 'velocity': 74.29}\n",
      "{'datetime': '2019-01-10 02:45:00', 'street_time': 1285.0, 'count': 19, 'velocity': 83.0}\n",
      "{'datetime': '2019-01-10 05:45:00', 'street_time': 1173.0, 'count': 1, 'velocity': 1.0}\n",
      "{'datetime': '2019-02-26 03:00:00', 'street_time': 1325.0, 'count': 2, 'velocity': 62.75}\n",
      "{'datetime': '2019-02-15 21:15:00', 'street_time': 1266.0, 'count': 9, 'velocity': 84.89}\n",
      "{'datetime': '2019-01-31 08:30:00', 'street_time': 1195.0, 'count': 4, 'velocity': 35.0}\n",
      "{'datetime': '2019-02-04 11:15:00', 'street_time': 382.0, 'count': 2, 'velocity': 8.5}\n",
      "{'datetime': '2019-01-18 16:45:00', 'street_time': 1434.0, 'count': 1, 'velocity': 6.0}\n",
      "{'datetime': '2019-02-19 11:15:00', 'street_time': 1442.0, 'count': 47, 'velocity': 87.51}\n",
      "{'datetime': '2019-01-25 08:00:00', 'street_time': 2390.0, 'count': 5, 'velocity': 10.8}\n",
      "{'datetime': '2019-02-05 06:45:00', 'street_time': 1325.0, 'count': 17, 'velocity': 21.71}\n",
      "{'datetime': '2019-01-14 08:00:00', 'street_time': 989.0, 'count': 9, 'velocity': 18.37}\n"
     ]
    }
   ],
   "source": [
    "import apache_beam as beam\n",
    "from apache_beam.options.pipeline_options import PipelineOptions\n",
    "from beam_postgres import splitters\n",
    "from beam_postgres.io import ReadFromPostgres\n",
    "from datetime import datetime\n",
    "\n",
    "class FilterWeekdays(beam.DoFn):\n",
    "    def process(self, element):\n",
    "        # Get the datetime from the element\n",
    "        dt = element['datetime']\n",
    "        \n",
    "        # Check if the day of the week is a weekday (0-4 are Monday-Friday)\n",
    "        if dt.weekday() < 5:\n",
    "            yield element\n",
    "\n",
    "class FormatDataFn(beam.DoFn):\n",
    "    def process(self, element):\n",
    "        # Format datetime to a user-friendly string\n",
    "        formatted_datetime = element['datetime'].strftime('%Y-%m-%d %H:%M:%S')\n",
    "        \n",
    "        # Format other values as needed\n",
    "        formatted_street_time = round(element['street_time'], 2)\n",
    "        formatted_count = element['count']\n",
    "        formatted_velocity = round(element['velocity'], 2)\n",
    "        \n",
    "        # Create a new dictionary with formatted values\n",
    "        formatted_element = {\n",
    "            'datetime': formatted_datetime,\n",
    "            'street_time': formatted_street_time,\n",
    "            'count': formatted_count,\n",
    "            'velocity': formatted_velocity\n",
    "        }\n",
    "        \n",
    "        yield formatted_element\n",
    "\n",
    "options = PipelineOptions()\n",
    "\n",
    "with beam.Pipeline(options=options) as p:\n",
    "    read_from_postgres = ReadFromPostgres(\n",
    "            query=\"SELECT * FROM public.your_table_name;\",\n",
    "            host=\"localhost\",\n",
    "            database=\"transport\",\n",
    "            user=\"postgres\",\n",
    "            password=\"postgres\",\n",
    "            splitter=splitters.NoSplitter()  # you can select how to split query for performance\n",
    "    )\n",
    "\n",
    "    # Read data from PostgreSQL and store in a PCollection named 'data'\n",
    "    data = p | \"ReadFromPostgres\" >> read_from_postgres\n",
    "\n",
    "    # Use the 'data' PCollection and filter out weekdays\n",
    "    weekday_data = data | \"FilterWeekdays\" >> beam.ParDo(FilterWeekdays())\n",
    "\n",
    "    # Format the data using the FormatDataFn transformation\n",
    "    formatted_weekday_data = weekday_data | \"FormatData\" >> beam.ParDo(FormatDataFn())\n",
    "\n",
    "    # Output formatted weekday data to stdout or other downstream steps\n",
    "    (\n",
    "        formatted_weekday_data\n",
    "        | \"WriteToStdout\" >> beam.Map(print)\n",
    "        | \"Write to file\" >> beam.io.WriteToText('data/formatted_weekdays1')\n",
    "        # Add more pipeline steps here\n",
    "    )\n"
   ]
  },
  {
   "cell_type": "code",
   "execution_count": null,
   "id": "0059322a-44df-4785-a775-3b03d7ddcbff",
   "metadata": {},
   "outputs": [],
   "source": []
  }
 ],
 "metadata": {
  "kernelspec": {
   "display_name": "Python 3 (ipykernel)",
   "language": "python",
   "name": "python3"
  },
  "language_info": {
   "codemirror_mode": {
    "name": "ipython",
    "version": 3
   },
   "file_extension": ".py",
   "mimetype": "text/x-python",
   "name": "python",
   "nbconvert_exporter": "python",
   "pygments_lexer": "ipython3",
   "version": "3.10.9"
  }
 },
 "nbformat": 4,
 "nbformat_minor": 5
}
